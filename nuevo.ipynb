{
 "cells": [
  {
   "cell_type": "markdown",
   "metadata": {},
   "source": [
    "# Declaración de variables"
   ]
  },
  {
   "cell_type": "code",
   "execution_count": null,
   "metadata": {},
   "outputs": [],
   "source": [
    "numeroUno = 0 # Entero\n",
    "numeroDos = 2.5 # Decimal\n",
    "textoUno = \"Hola mundo\" # Cadena\n",
    "varBooleana = True # False -> Booleano"
   ]
  },
  {
   "cell_type": "markdown",
   "metadata": {},
   "source": [
    "# Operación con variables"
   ]
  },
  {
   "cell_type": "code",
   "execution_count": 15,
   "metadata": {},
   "outputs": [
    {
     "name": "stdout",
     "output_type": "stream",
     "text": [
      "El resultado: -10\n"
     ]
    }
   ],
   "source": [
    "numeroUno = 5\n",
    "numeroDos = 15\n",
    "\n",
    "suma = numeroUno - numeroDos\n",
    "\n",
    "print(\"El resultado: \"+str(suma))\n"
   ]
  },
  {
   "cell_type": "markdown",
   "metadata": {},
   "source": [
    "# Estructuras de control"
   ]
  },
  {
   "cell_type": "markdown",
   "metadata": {},
   "source": [
    "### Estructuras de tipo condicional"
   ]
  },
  {
   "cell_type": "code",
   "execution_count": 18,
   "metadata": {},
   "outputs": [
    {
     "name": "stdout",
     "output_type": "stream",
     "text": [
      "Pa la casa\n"
     ]
    }
   ],
   "source": [
    "# Validar si una persona es mayor de edad para entrar a la discoteca \n",
    "\n",
    "edadPesona = 17\n",
    "\n",
    "if edadPesona >= 18:\n",
    "    print(\"Puede entrar a la disco\")\n",
    "else:\n",
    "    print(\"Pa la casa\")"
   ]
  },
  {
   "cell_type": "code",
   "execution_count": 20,
   "metadata": {},
   "outputs": [
    {
     "name": "stdout",
     "output_type": "stream",
     "text": [
      "Puede entrar a la disco\n"
     ]
    }
   ],
   "source": [
    "# Validar si una persona es mayor de edad para entrar a la discoteca si tiene 18 o mas años y mide mas de 1.2 mts\n",
    "\n",
    "edadPesona = 18\n",
    "estatura = 1.8\n",
    "\n",
    "if edadPesona >= 18 and estatura > 1.2:\n",
    "    print(\"Puede entrar a la disco\")\n",
    "else:\n",
    "    print(\"Pa la casa\")"
   ]
  }
 ],
 "metadata": {
  "kernelspec": {
   "display_name": "Python 3",
   "language": "python",
   "name": "python3"
  },
  "language_info": {
   "codemirror_mode": {
    "name": "ipython",
    "version": 3
   },
   "file_extension": ".py",
   "mimetype": "text/x-python",
   "name": "python",
   "nbconvert_exporter": "python",
   "pygments_lexer": "ipython3",
   "version": "3.12.2"
  }
 },
 "nbformat": 4,
 "nbformat_minor": 2
}
